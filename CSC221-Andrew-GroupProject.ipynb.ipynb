{
 "cells": [
  {
   "cell_type": "code",
   "execution_count": 2,
   "id": "fa06a6ff-5689-4baf-9a75-c6c8db516a49",
   "metadata": {},
   "outputs": [
    {
     "name": "stdout",
     "output_type": "stream",
     "text": [
      "Headers: ['Country/Territory', 'IMF[1][13]', 'World Bank[14]', 'United Nations[15]', 'Forecast', 'Year', 'Estimate', 'Year', 'Estimate', 'Year']\n",
      "Empty DataFrame\n",
      "Columns: [Country/Territory, IMF[1][13], World Bank[14], United Nations[15], Forecast, Year, Estimate, Year, Estimate, Year]\n",
      "Index: []\n",
      "Country/Territory,IMF[1][13],World Bank[14],United Nations[15],Forecast,Year,Estimate,Year,Estimate,Year\n",
      "\n"
     ]
    }
   ],
   "source": [
    "import requests\n",
    "from bs4 import BeautifulSoup\n",
    "import pandas as pd\n",
    "\n",
    "# Step 1: Send a request to the webpage\n",
    "url = 'https://en.wikipedia.org/wiki/List_of_countries_by_GDP_(nominal)'\n",
    "response = requests.get(url)\n",
    "response.raise_for_status()  # Check if the request was successful\n",
    "\n",
    "# Step 2: Parse the webpage content\n",
    "soup = BeautifulSoup(response.text, 'html.parser')\n",
    "\n",
    "# Step 3: Locate the table and extract data\n",
    "# In this case, the table we're interested in has the class 'wikitable'\n",
    "table = soup.find('table', {'class': 'wikitable'})\n",
    "\n",
    "# Extract headers\n",
    "headers = [header.text.strip() for header in table.find_all('th')]\n",
    "print(f\"Headers: {headers}\")\n",
    "\n",
    "# Extract rows\n",
    "rows = []\n",
    "for row in table.find_all('tr')[1:]:  # Skip the header row\n",
    "    cells = row.find_all('td')\n",
    "    if len(cells) == len(headers):  # Ensure the row has the correct number of columns\n",
    "        row_data = [cell.text.strip() for cell in cells]\n",
    "        rows.append(row_data)\n",
    "\n",
    "# Step 4: Create a DataFrame and display the first 10 rows\n",
    "df = pd.DataFrame(rows, columns=headers)\n",
    "print(\"First 10 rows of the data:\")\n",
    "print(df.head(10))  # Print the DataFrame to check the content\n",
    "\n",
    "# Step 5: Save the data to a CSV file\n",
    "csv_file_path = 'CSC221-webscrape-data.csv'\n",
    "df.to_csv(csv_file_path, index=False)\n",
    "\n",
    "print(f\"Data has been saved to {csv_file_path}\")\n"
   ]
  },
  {
   "cell_type": "code",
   "execution_count": null,
   "id": "6cdde08b-8cfe-4fca-8761-0a23a25f8daf",
   "metadata": {},
   "outputs": [],
   "source": []
  }
 ],
 "metadata": {
  "kernelspec": {
   "display_name": "Python 3 (ipykernel)",
   "language": "python",
   "name": "python3"
  },
  "language_info": {
   "codemirror_mode": {
    "name": "ipython",
    "version": 3
   },
   "file_extension": ".py",
   "mimetype": "text/x-python",
   "name": "python",
   "nbconvert_exporter": "python",
   "pygments_lexer": "ipython3",
   "version": "3.11.7"
  }
 },
 "nbformat": 4,
 "nbformat_minor": 5
}
